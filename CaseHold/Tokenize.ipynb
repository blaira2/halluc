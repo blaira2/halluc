{
 "cells": [
  {
   "cell_type": "code",
   "execution_count": 19,
   "id": "8a5b3e0a-2d01-446a-9967-05d22679ed30",
   "metadata": {},
   "outputs": [
    {
     "name": "stdout",
     "output_type": "stream",
     "text": [
      "Done! Wrote Q&A-style data to casehold_prompts.jsonl\n"
     ]
    }
   ],
   "source": [
    "import csv\n",
    "import json\n",
    "\n",
    "# File paths\n",
    "input_csv = \"train5000.csv\"\n",
    "output_jsonl = \"casehold_prompts.jsonl\"\n",
    "\n",
    "# Adjust column names as needed\n",
    "PROMPT_COL = \"prompt\"\n",
    "LABEL_COL = \"label\"\n",
    "HOLDING_COLS = [\"holding_0\", \"holding_1\", \"holding_2\", \"holding_3\", \"holding_4\"]\n",
    "\n",
    "with open(input_csv, newline='', encoding='utf-8') as csvfile, open(output_jsonl, 'w', encoding='utf-8') as jsonlfile:\n",
    "    reader = csv.reader(csvfile)\n",
    "    next(reader)\n",
    "\n",
    "    for row in reader:\n",
    "        prompt_text = row[1].strip()\n",
    "        correct_index = int(row[12].strip()) + 2\n",
    "        correct_holding = row[correct_index].strip()\n",
    "        messages = [\n",
    "            {\n",
    "                \"role\": \"user\",\n",
    "                \"content\": f\"Given the facts: {prompt_text}\\nWhat is the correct legal holding?\"\n",
    "            },\n",
    "            {\n",
    "                \"role\": \"assistant\",\n",
    "                \"content\": f\"The correct holding is: {correct_holding}\"\n",
    "            }\n",
    "        ]\n",
    "\n",
    "        jsonlfile.write(json.dumps({\"messages\": messages}) + \"\\n\")\n",
    "\n",
    "print(f\"Done! Wrote Q&A-style data to {output_jsonl}\")"
   ]
  },
  {
   "cell_type": "code",
   "execution_count": null,
   "id": "6ce5ae2c-6f29-426a-b259-8d8475dc2d26",
   "metadata": {},
   "outputs": [],
   "source": []
  }
 ],
 "metadata": {
  "kernelspec": {
   "display_name": "Python 3 (ipykernel)",
   "language": "python",
   "name": "python3"
  },
  "language_info": {
   "codemirror_mode": {
    "name": "ipython",
    "version": 3
   },
   "file_extension": ".py",
   "mimetype": "text/x-python",
   "name": "python",
   "nbconvert_exporter": "python",
   "pygments_lexer": "ipython3",
   "version": "3.11.11"
  }
 },
 "nbformat": 4,
 "nbformat_minor": 5
}
