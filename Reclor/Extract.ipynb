{
 "cells": [
  {
   "cell_type": "code",
   "execution_count": 1,
   "id": "0bc23a72-ce7f-44ee-8f38-5ea42f4cc748",
   "metadata": {},
   "outputs": [],
   "source": [
    "import json\n",
    "import argparse\n",
    "\n",
    "\n",
    "input = \"train.json\"\n",
    "output = \"logic_prompts.jsonl\"\n",
    "\n",
    "\n",
    "def convert_reclor_to_jsonl(input_path, output_path):\n",
    "\n",
    "    with open(input_path, 'r', encoding='utf-8') as infile:\n",
    "        data = json.load(infile)\n",
    "\n",
    "    with open(output_path, 'w', encoding='utf-8') as outfile:\n",
    "        for item in data:\n",
    "            context  = item.get('context', '').strip()\n",
    "            question = item.get('question', '').strip()\n",
    "            answers  = item.get('answers', [])\n",
    "            label    = int(item.get('label', 0))\n",
    "\n",
    "            # Format the answer choices as A., B., C., etc.\n",
    "            options_text = \"\\n\".join(f\"{opt}\" for i, opt in enumerate(answers))\n",
    "            \n",
    "            # Construct the user message content\n",
    "            user_content = (\n",
    "                f\"{context}\\n\\n\"\n",
    "                f\"{question}\\n\"\n",
    "                f\"{options_text}\\n\\n\"\n",
    "                f\"Answer:\"\n",
    "            )\n",
    "            \n",
    "            # The assistant's correct completion\n",
    "            assistant_content = answers[label].strip()\n",
    "\n",
    "            record = {\n",
    "                \"messages\": [\n",
    "                    {\"role\": \"user\",      \"content\": user_content},\n",
    "                    {\"role\": \"assistant\", \"content\": assistant_content}\n",
    "                ]\n",
    "            }\n",
    "            outfile.write(json.dumps(record, ensure_ascii=False) + \"\\n\")\n",
    "\n",
    "\n",
    "\n",
    "convert_reclor_to_jsonl(input, output)\n",
    "\n"
   ]
  },
  {
   "cell_type": "code",
   "execution_count": null,
   "id": "ad757452-75de-4207-898e-87fd6cc8552d",
   "metadata": {},
   "outputs": [],
   "source": []
  }
 ],
 "metadata": {
  "kernelspec": {
   "display_name": "Python 3 (ipykernel)",
   "language": "python",
   "name": "python3"
  },
  "language_info": {
   "codemirror_mode": {
    "name": "ipython",
    "version": 3
   },
   "file_extension": ".py",
   "mimetype": "text/x-python",
   "name": "python",
   "nbconvert_exporter": "python",
   "pygments_lexer": "ipython3",
   "version": "3.11.11"
  }
 },
 "nbformat": 4,
 "nbformat_minor": 5
}
