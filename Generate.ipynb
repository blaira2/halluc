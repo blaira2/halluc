{
 "cells": [
  {
   "cell_type": "code",
   "execution_count": 1,
   "id": "dafaf761-0bad-48c8-8f76-d3139e180cc0",
   "metadata": {},
   "outputs": [],
   "source": [
    "import json\n",
    "import time\n",
    "from openai import OpenAI\n",
    "\n",
    "client = OpenAI(api_key=\"\")\n",
    "\n",
    "\n",
    "model_privacyqa = \"ft:gpt-4o-mini-2024-07-18:personal:privacyqa:BEUwmeGn\" #tuned on 500 samples\n",
    "model_cancerqa = \"ft:gpt-4o-mini-2024-07-18:personal:cancerqa:BOS35I1P\" #tuned on 500 samples\n",
    "model_casehold = \"ft:gpt-4.1-mini-2025-04-14:personal:casehold2:BPfk4daS\" #tuned on 2000 samples\n",
    "\n",
    "model_baseline = \"gpt-4o-mini\"\n",
    "\n",
    "input_file = \"casehold_500_prompts.jsonl\"\n",
    "output_file = \"casehold_generated_responses.jsonl\"\n",
    "output_file_b = \"chatgpt_generated_responses_b.jsonl\" #vs baseline model\n",
    "output_file_c = \"chatgptq_privacya_generated_responses.jsonl\"\n",
    "\n",
    "\n",
    "def generate_multiple_responses(prompt, model_id, num_samples=5):\n",
    "    responses = []\n",
    "    response = client.chat.completions.create(\n",
    "        model=model_id,\n",
    "        messages=[\n",
    "            {\"role\": \"system\", \"content\": \"You are a helpful assistant.\"},\n",
    "            {\"role\": \"user\", \"content\": prompt}\n",
    "        ],\n",
    "        temperature=1.0,\n",
    "        max_tokens=1000,\n",
    "        n=num_samples\n",
    "    )\n",
    "    for choice in response.choices:\n",
    "        responses.append(choice.model_dump_json())\n",
    "    return responses\n",
    "\n",
    "\n",
    "def process_prompts(input_path, output_path, model):\n",
    "    with open(input_path, 'r') as infile, open(output_path, 'w') as outfile:\n",
    "        for line in infile:\n",
    "            data = json.loads(line)\n",
    "            prompt = data[\"messages\"][1][\"content\"]\n",
    "            if prompt:\n",
    "                try:\n",
    "                    completions = generate_multiple_responses(prompt, model)\n",
    "                    output_data = {\n",
    "                        \"prompt\": prompt,\n",
    "                        \"completions\": completions\n",
    "                    }\n",
    "                    outfile.write(json.dumps(output_data) + \"\\n\")\n",
    "                except Exception as e:\n",
    "                    print(f\"Error processing prompt: {prompt}\\n{e}\")\n",
    "                    time.sleep(1)  # Brief pause in case of rate limits\n",
    "\n",
    "process_prompts(input_file, output_file, model_privacyqa)\n",
    "\n"
   ]
  },
  {
   "cell_type": "code",
   "execution_count": 2,
   "id": "0985648d-a77f-42be-8b54-874029e64d53",
   "metadata": {},
   "outputs": [
    {
     "name": "stdout",
     "output_type": "stream",
     "text": [
      "500\n"
     ]
    }
   ],
   "source": [
    "#output count\n",
    "with open(output_file, 'r') as f:\n",
    "    print(sum(1 for _ in f))\n",
    "     "
   ]
  },
  {
   "cell_type": "code",
   "execution_count": null,
   "id": "bfb40f8f-f2c1-4471-baec-52de8bb87777",
   "metadata": {},
   "outputs": [],
   "source": []
  }
 ],
 "metadata": {
  "kernelspec": {
   "display_name": "Python 3 (ipykernel)",
   "language": "python",
   "name": "python3"
  },
  "language_info": {
   "codemirror_mode": {
    "name": "ipython",
    "version": 3
   },
   "file_extension": ".py",
   "mimetype": "text/x-python",
   "name": "python",
   "nbconvert_exporter": "python",
   "pygments_lexer": "ipython3",
   "version": "3.11.11"
  }
 },
 "nbformat": 4,
 "nbformat_minor": 5
}
