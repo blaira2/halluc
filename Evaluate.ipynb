{
 "cells": [
  {
   "cell_type": "code",
   "execution_count": 57,
   "id": "c79d19d4-ef51-40f1-a885-59bbc5608fde",
   "metadata": {},
   "outputs": [
    {
     "name": "stdout",
     "output_type": "stream",
     "text": [
      "Created list of 500 completion sets\n"
     ]
    }
   ],
   "source": [
    "#Read completion data\n",
    "import json\n",
    "\n",
    "def prep_completions(completion_file):\n",
    "    completion_list = [] #output 2d list of prompt completions\n",
    "    with open(completion_file, 'r', encoding='utf-8') as f:\n",
    "        for line_number, line in enumerate(f, start=1):\n",
    "            try:\n",
    "                data = json.loads(line)\n",
    "                passage_set = []\n",
    "                completions = data['completions']\n",
    "                for completion in completions:\n",
    "                    passage =  json.loads(completion)['message']['content']\n",
    "                    passage_set.append(passage)\n",
    "                completion_list.append(passage_set)\n",
    "            except json.JSONDecodeError as e:\n",
    "                print(f\"Error decoding JSON on line {line_number}: {e}\")\n",
    "    return completion_list\n",
    "\n",
    "privacyqa_completion_file = 'privacyqa_generated_responses.jsonl'\n",
    "privacyqa_completion_file_b = 'privacyqa_generated_responses_b.jsonl'\n",
    "\n",
    "#privacyqa_completion_list = prep_completions(privacyqa_completion_file)\n",
    "completion_list = prep_completions(privacyqa_completion_file_b)\n",
    "\n",
    "print(f\"Created list of {len(completion_list)} completion sets\")\n"
   ]
  },
  {
   "cell_type": "code",
   "execution_count": 58,
   "id": "c5bd27a0-ff36-426c-9789-d68f4d783aa2",
   "metadata": {},
   "outputs": [
    {
     "name": "stdout",
     "output_type": "stream",
     "text": [
      "SelfCheck-BERTScore initialized\n"
     ]
    }
   ],
   "source": [
    "#Collect sentence level BERTScore\n",
    "import torch\n",
    "import time\n",
    "import spacy\n",
    "from selfcheckgpt.modeling_selfcheck import SelfCheckBERTScore\n",
    "from bert_score import score\n",
    "\n",
    "device = torch.device(\"cuda\" if torch.cuda.is_available() else \"cpu\")\n",
    "print(\"using device \", device)\n",
    "selfcheck_bertscore = SelfCheckBERTScore(rescale_with_baseline=True)\n",
    "nlp = spacy.load(\"en_core_web_sm\")\n",
    "\n",
    "privacyqa_results_file='privacyqa_bertscore_results.txt'\n",
    "privacyqa_results_file_b='privacyqa_bertscore_results_b.txt'\n",
    "\n",
    "\n",
    "def doBERT(completion_list, output_path):\n",
    "    results=[]\n",
    "    with open(output_path, 'w') as outfile:\n",
    "        for passages in completion_list:\n",
    "            try:\n",
    "                sentences = [sent.text.strip() for sent in nlp(passages[0]).sents] # spacy sentence tokenization\n",
    "                sent_scores_bertscore = selfcheck_bertscore.predict(\n",
    "                    sentences = sentences,             # list of sentences\n",
    "                    sampled_passages = passages, # list of sampled passages\n",
    "                )\n",
    "                results.append(sent_scores_bertscore)\n",
    "                line_array = ' '.join(map(str, sent_scores_bertscore))\n",
    "                outfile.write(line_array+ '\\n')\n",
    "            except Exception as e:\n",
    "                print(f\"Error processing BERTScore: \\n{e}\")\n",
    "                time.sleep(.1)  # Brief pause in case\n",
    "    return results\n",
    "   \n",
    "score_results = doBERT(completion_list, privacyqa_results_file_b)\n",
    "\n",
    "\n"
   ]
  },
  {
   "cell_type": "code",
   "execution_count": 60,
   "id": "1acc269d-aeb8-48af-91fb-a85c838f5e23",
   "metadata": {},
   "outputs": [
    {
     "name": "stdout",
     "output_type": "stream",
     "text": [
      "Mean privacyqa score:  0.49318810144564745\n"
     ]
    }
   ],
   "source": [
    "#Get Mean BERTScore\n",
    "import numpy as np\n",
    "\n",
    "def mean_score(filename):\n",
    "    averages_list=[]\n",
    "    with open(filename, 'r') as file:\n",
    "        for line in file:\n",
    "            numbers_str = line.strip().split(' ')\n",
    "            numbers = np.array(numbers_str, dtype=float)\n",
    "            if numbers.size > 0:\n",
    "                line_average = np.mean(numbers) \n",
    "                averages_list.append(line_average)\n",
    "        if averages_list:\n",
    "            mean = np.mean(averages_list) \n",
    "        else:\n",
    "            mean = 0\n",
    "    return mean\n",
    "\n",
    "privacyqa_results_file='privacyqa_bertscore_results.txt'\n",
    "\n",
    "print(\"Mean privacyqa score: \",mean_score(privacyqa_results_file))"
   ]
  },
  {
   "cell_type": "code",
   "execution_count": null,
   "id": "71d80a1f-19a5-4ecb-b1df-3bb587d3c472",
   "metadata": {},
   "outputs": [],
   "source": []
  }
 ],
 "metadata": {
  "kernelspec": {
   "display_name": "Python 3 (ipykernel)",
   "language": "python",
   "name": "python3"
  },
  "language_info": {
   "codemirror_mode": {
    "name": "ipython",
    "version": 3
   },
   "file_extension": ".py",
   "mimetype": "text/x-python",
   "name": "python",
   "nbconvert_exporter": "python",
   "pygments_lexer": "ipython3",
   "version": "3.11.11"
  }
 },
 "nbformat": 4,
 "nbformat_minor": 5
}
