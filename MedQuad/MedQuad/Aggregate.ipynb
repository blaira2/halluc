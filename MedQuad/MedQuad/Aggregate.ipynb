{
 "cells": [
  {
   "cell_type": "code",
   "execution_count": 1,
   "id": "e5277cd6-47ee-4f19-b93c-a71ff1a69daa",
   "metadata": {},
   "outputs": [
    {
     "name": "stdout",
     "output_type": "stream",
     "text": [
      "2_GARD_QA\n",
      "Failed to process 2_GARD_QA\\0002079.xml: 'NoneType' object has no attribute 'strip'\n",
      "Failed to process 2_GARD_QA\\0002080.xml: 'NoneType' object has no attribute 'strip'\n",
      "Failed to process 2_GARD_QA\\0002253.xml: 'NoneType' object has no attribute 'strip'\n",
      "Failed to process 2_GARD_QA\\0002747.xml: 'NoneType' object has no attribute 'strip'\n",
      "Failed to process 2_GARD_QA\\0006509.xml: 'NoneType' object has no attribute 'strip'\n",
      "Done. Extracted 5384 QA pairs to qa_pairs.jsonl\n"
     ]
    }
   ],
   "source": [
    "import os\n",
    "import json\n",
    "import xml.etree.ElementTree as ET\n",
    "\n",
    "from pathlib import Path\n",
    "\n",
    "def extract_qa_from_xml(xml_path):\n",
    "    tree = ET.parse(xml_path)\n",
    "    root = tree.getroot()\n",
    "    \n",
    "    doc_id = root.attrib.get(\"id\")\n",
    "    source = root.attrib.get(\"source\")\n",
    "    url = root.attrib.get(\"url\")\n",
    "\n",
    "    qa_list = []\n",
    "    for qapair in root.findall(\".//QAPair\"):\n",
    "        question = qapair.find(\"Question\").text.strip()\n",
    "        answer = qapair.find(\"Answer\").text.strip()\n",
    "        qa_list.append({\n",
    "            \"doc_id\": doc_id,\n",
    "            \"source\": source,\n",
    "            \"url\": url,\n",
    "            \"question\": question,\n",
    "            \"answer\": answer\n",
    "        })\n",
    "    \n",
    "    return qa_list\n",
    "\n",
    "def process_all_xml_to_jsonl(input_dir, output_path):\n",
    "    input_path = Path(input_dir)\n",
    "    print(input_path)\n",
    "    all_qa_pairs = []\n",
    "\n",
    "    for xml_file in input_path.glob(\"*.xml\"):\n",
    "        try:\n",
    "            qa_pairs = extract_qa_from_xml(xml_file)\n",
    "            all_qa_pairs.extend(qa_pairs)\n",
    "        except Exception as e:\n",
    "            print(f\"Failed to process {xml_file}: {e}\")\n",
    "\n",
    "    with open(output_path, \"w\", encoding=\"utf-8\") as f_out:\n",
    "        for qa in all_qa_pairs:\n",
    "            json_line = json.dumps(qa, ensure_ascii=False)\n",
    "            f_out.write(json_line + \"\\n\")\n",
    "\n",
    "    print(f\"Done. Extracted {len(all_qa_pairs)} QA pairs to {output_path}\")\n",
    "\n",
    "\n",
    "input_xml_folder = \"./2_GARD_QA\"  \n",
    "output_jsonl_file = \"qa_pairs.jsonl\"\n",
    "process_all_xml_to_jsonl(input_xml_folder, output_jsonl_file)\n"
   ]
  },
  {
   "cell_type": "code",
   "execution_count": 2,
   "id": "56b5b9cb-1905-459a-91fd-f9ee4cce4446",
   "metadata": {},
   "outputs": [
    {
     "name": "stdout",
     "output_type": "stream",
     "text": [
      "Converted chat-style entries written to gard_qa_prompts.jsonl\n"
     ]
    }
   ],
   "source": [
    "import json\n",
    "\n",
    "def convert_to_chat_format(input_jsonl, output_jsonl):\n",
    "    with open(input_jsonl, \"r\", encoding=\"utf-8\") as fin, \\\n",
    "         open(output_jsonl, \"w\", encoding=\"utf-8\") as fout:\n",
    "\n",
    "        for line in fin:\n",
    "            entry = json.loads(line)\n",
    "            question = entry[\"question\"].strip()\n",
    "            answer = entry[\"answer\"].strip()\n",
    "\n",
    "            chat_obj = {\n",
    "                \"messages\": [\n",
    "                    {\"role\": \"system\", \"content\": \"You are a helpful medical assistant.\"},\n",
    "                    {\"role\": \"user\", \"content\": question},\n",
    "                    {\"role\": \"assistant\", \"content\": answer}\n",
    "                ]\n",
    "            }\n",
    "\n",
    "            fout.write(json.dumps(chat_obj, ensure_ascii=False) + \"\\n\")\n",
    "\n",
    "    print(f\"Converted chat-style entries written to {output_jsonl}\")\n",
    "\n",
    "\n",
    "input_file = \"qa_pairs.jsonl\"\n",
    "output_file = \"gard_qa_prompts.jsonl\"\n",
    "convert_to_chat_format(input_file, output_file)\n"
   ]
  },
  {
   "cell_type": "code",
   "execution_count": null,
   "id": "803b2609-55e9-4673-999f-be6466496535",
   "metadata": {},
   "outputs": [],
   "source": []
  }
 ],
 "metadata": {
  "kernelspec": {
   "display_name": "Python 3 (ipykernel)",
   "language": "python",
   "name": "python3"
  },
  "language_info": {
   "codemirror_mode": {
    "name": "ipython",
    "version": 3
   },
   "file_extension": ".py",
   "mimetype": "text/x-python",
   "name": "python",
   "nbconvert_exporter": "python",
   "pygments_lexer": "ipython3",
   "version": "3.11.11"
  }
 },
 "nbformat": 4,
 "nbformat_minor": 5
}
